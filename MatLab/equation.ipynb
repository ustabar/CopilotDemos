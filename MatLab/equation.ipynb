{
 "cells": [
  {
   "cell_type": "code",
   "execution_count": 2,
   "metadata": {},
   "outputs": [
    {
     "name": "stdout",
     "output_type": "stream",
     "text": [
      "\\frac{- b + \\sqrt{- 4 a c + b^{2}}}{2 a}\n"
     ]
    }
   ],
   "source": [
    "import sympy as sp\n",
    "\n",
    "def solve(a, b, c):\n",
    "    return (-b + sp.sqrt(b**2 - 4*a*c)) / (2*a)\n",
    "\n",
    "# Define the symbols\n",
    "a, b, c = sp.symbols('a b c')\n",
    "\n",
    "# Get the function expression\n",
    "expr = solve(a, b, c)\n",
    "\n",
    "# Convert to LaTeX\n",
    "latex_expr = sp.latex(expr)\n",
    "\n",
    "print(latex_expr)"
   ]
  },
  {
   "cell_type": "code",
   "execution_count": 3,
   "metadata": {},
   "outputs": [
    {
     "name": "stdout",
     "output_type": "stream",
     "text": [
      "-1\n"
     ]
    }
   ],
   "source": [
    "numerical_expr = expr.subs({a: 1, b: 2, c: 1})\n",
    "print(numerical_expr)"
   ]
  },
  {
   "cell_type": "code",
   "execution_count": 4,
   "metadata": {},
   "outputs": [
    {
     "name": "stdout",
     "output_type": "stream",
     "text": [
      "Omega + alpha*beta + gamma(gamma)\n",
      "8\n"
     ]
    }
   ],
   "source": [
    "import sympy as sp\n",
    "\n",
    "def greek(alpha, beta, gamma, Omega):\n",
    "    return alpha * beta + sp.gamma(gamma) + Omega\n",
    "\n",
    "# Define the symbols\n",
    "alpha, beta, gamma, Omega = sp.symbols('alpha beta gamma Omega')\n",
    "\n",
    "# Use the function\n",
    "result = greek(alpha, beta, gamma, Omega)\n",
    "\n",
    "# Print the result\n",
    "print(result)\n",
    "\n",
    "# Substitute numerical values\n",
    "numerical_result = result.subs({alpha: 1, beta: 2, gamma: 3, Omega: 4})\n",
    "\n",
    "# Print the numerical result\n",
    "print(numerical_result)"
   ]
  }
 ],
 "metadata": {
  "kernelspec": {
   "display_name": "Python 3",
   "language": "python",
   "name": "python3"
  },
  "language_info": {
   "codemirror_mode": {
    "name": "ipython",
    "version": 3
   },
   "file_extension": ".py",
   "mimetype": "text/x-python",
   "name": "python",
   "nbconvert_exporter": "python",
   "pygments_lexer": "ipython3",
   "version": "3.12.3"
  }
 },
 "nbformat": 4,
 "nbformat_minor": 2
}
